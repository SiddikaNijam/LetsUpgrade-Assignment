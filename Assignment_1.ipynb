{
  "nbformat": 4,
  "nbformat_minor": 0,
  "metadata": {
    "colab": {
      "name": "Assignment 1.ipynb",
      "provenance": [],
      "collapsed_sections": [],
      "authorship_tag": "ABX9TyPrvRTyHLszmOC7z50a1fHo"
    },
    "kernelspec": {
      "name": "python3",
      "display_name": "Python 3"
    },
    "language_info": {
      "name": "python"
    }
  },
  "cells": [
    {
      "cell_type": "code",
      "metadata": {
        "colab": {
          "base_uri": "https://localhost:8080/"
        },
        "id": "xpsAb-uyntwV",
        "outputId": "861950fd-05ec-484c-d0f6-862c93b3eb88"
      },
      "source": [
        "# single digit input\n",
        "li=[int(i) for i in input(\"Enter the values of the list\")]\n",
        "print(li)\n",
        "li.sort()\n",
        "print('Ascending order of the list is: ',li)\n",
        "li.reverse()\n",
        "print(\"Descending order of the given values is:\",li)"
      ],
      "execution_count": null,
      "outputs": [
        {
          "output_type": "stream",
          "text": [
            "Enter the values of the list123456789\n",
            "[1, 2, 3, 4, 5, 6, 7, 8, 9]\n",
            "Ascending order of the list is:  [1, 2, 3, 4, 5, 6, 7, 8, 9]\n",
            "Descending order of the given values is: [9, 8, 7, 6, 5, 4, 3, 2, 1]\n"
          ],
          "name": "stdout"
        }
      ]
    },
    {
      "cell_type": "code",
      "metadata": {
        "id": "xoBbPtDGv9T8",
        "colab": {
          "base_uri": "https://localhost:8080/"
        },
        "outputId": "7b544515-07ad-4017-90ec-91d747148525"
      },
      "source": [
        "#creating a dynamic list (i.e used in runtime)\n",
        "li=[] \n",
        "n=int(input(\"length of the list:\"))\n",
        "for i in range(0,n):\n",
        "  x=int(input('enter the values of list: '))\n",
        "  li.append(x)\n",
        "print(li)\n",
        "li.sort()\n",
        "print('Ascending order of the list is: ',li)\n",
        "li.reverse()\n",
        "print(\"Descending order of the given values is:\",li)"
      ],
      "execution_count": null,
      "outputs": [
        {
          "output_type": "stream",
          "text": [
            "length of the list:4\n",
            "enter the values of list: 34\n",
            "enter the values of list: 56\n",
            "enter the values of list: 90\n",
            "enter the values of list: 30\n",
            "[34, 56, 90, 30]\n",
            "Ascending order of the list is:  [30, 34, 56, 90]\n",
            "Descending order of the given values is: [90, 56, 34, 30]\n"
          ],
          "name": "stdout"
        }
      ]
    },
    {
      "cell_type": "code",
      "metadata": {
        "id": "ErqXvy6C2EIZ",
        "colab": {
          "base_uri": "https://localhost:8080/"
        },
        "outputId": "54c99234-472d-4027-b5d3-73ee15fb4376"
      },
      "source": [
        "# Predefined values\n",
        "li=[45,660,950,30,23]\n",
        "li.sort()\n",
        "print('Ascending order of the list is: ',li)\n",
        "li.reverse()\n",
        "print(\"Descending order of the given values is:\",li)"
      ],
      "execution_count": null,
      "outputs": [
        {
          "output_type": "stream",
          "text": [
            "Ascending order of the list is:  [23, 30, 45, 660, 950]\n",
            "Descending order of the given values is: [950, 660, 45, 30, 23]\n"
          ],
          "name": "stdout"
        }
      ]
    }
  ]
}