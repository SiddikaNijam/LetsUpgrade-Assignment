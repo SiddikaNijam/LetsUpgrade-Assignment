{
  "nbformat": 4,
  "nbformat_minor": 0,
  "metadata": {
    "colab": {
      "name": "Assignment 2.ipynb",
      "provenance": [],
      "collapsed_sections": [],
      "authorship_tag": "ABX9TyPuVIZQlA1XAjXaU76RmR7h"
    },
    "kernelspec": {
      "name": "python3",
      "display_name": "Python 3"
    },
    "language_info": {
      "name": "python"
    }
  },
  "cells": [
    {
      "cell_type": "code",
      "metadata": {
        "id": "LX3S-8Hd3EjL",
        "colab": {
          "base_uri": "https://localhost:8080/"
        },
        "outputId": "37ad6f1e-2eb8-4065-d6b1-036d7da93e6b"
      },
      "source": [
        "# Remove all occurences of the list\n",
        "\n",
        "value=[5,78,78,0,0,45,90,12]\n",
        "print('Our list is:',value)\n",
        "value.remove(78)\n",
        "value.remove(0)\n",
        "print(\"Mutiple occurences are removed\",value)\n",
        "value.sort()\n",
        "print(\"Ordered list\",value)"
      ],
      "execution_count": null,
      "outputs": [
        {
          "output_type": "stream",
          "text": [
            "Our list is: [5, 78, 78, 0, 0, 45, 90, 12]\n",
            "Mutiple occurences are removed [5, 78, 0, 45, 90, 12]\n",
            "Ordered list [0, 5, 12, 45, 78, 90]\n"
          ],
          "name": "stdout"
        }
      ]
    },
    {
      "cell_type": "code",
      "metadata": {
        "colab": {
          "base_uri": "https://localhost:8080/"
        },
        "id": "EEXEYJJI91V8",
        "outputId": "04effac4-529e-4371-d840-83edf79e493a"
      },
      "source": [
        "# Mini project(OTP generator)\n",
        "\n",
        "import random as r   # To generate in random manner\n",
        "import string    # To include the digits\n",
        "size=8\n",
        "characters = string.ascii_letters + string.digits\n",
        "otp=\" \"\n",
        "for i in range(size):\n",
        " otp = otp + r.choice(characters)\n",
        "print('your otp is',otp)"
      ],
      "execution_count": null,
      "outputs": [
        {
          "output_type": "stream",
          "text": [
            "your otp is  zXyKPW3L\n"
          ],
          "name": "stdout"
        }
      ]
    },
    {
      "cell_type": "code",
      "metadata": {
        "colab": {
          "base_uri": "https://localhost:8080/"
        },
        "id": "TpGUoeZU9XSG",
        "outputId": "9be65c2e-da02-4e95-ca88-033f84237ba0"
      },
      "source": [
        "# pangram program\n",
        "\n",
        "import string\n",
        "def ispangram(str):\n",
        "  alphabet = \"abcdefghijklmnopqrstuvwxyz\"\n",
        "  for char in alphabet:\n",
        "    if char not in str.lower():\n",
        "      return False\n",
        "  return True\n",
        "string =\"pack my box with five dozen liquor jugs\"\n",
        "if (ispangram(string)== True):\n",
        " print(\"The given string is Pangram\")\n",
        "else:\n",
        " print(\"The given string is not Pangram\")"
      ],
      "execution_count": 14,
      "outputs": [
        {
          "output_type": "stream",
          "text": [
            "The given string is Pangram\n"
          ],
          "name": "stdout"
        }
      ]
    },
    {
      "cell_type": "code",
      "metadata": {
        "id": "g3Cx6v1xBQoy"
      },
      "source": [
        ""
      ],
      "execution_count": null,
      "outputs": []
    },
    {
      "cell_type": "code",
      "metadata": {
        "colab": {
          "base_uri": "https://localhost:8080/"
        },
        "id": "PudRKel7_bNH",
        "outputId": "fbe58ece-ff1e-492c-8712-1fea5af5e4bf"
      },
      "source": [
        "# Only numbers\n",
        "\n",
        "import random as r\n",
        "import string\n",
        "size=6\n",
        "characters = string.digits\n",
        "otp=\" \"\n",
        "for i in range(size):\n",
        " otp = otp + r.choice(characters)\n",
        "print('your otp is',otp)"
      ],
      "execution_count": null,
      "outputs": [
        {
          "output_type": "stream",
          "text": [
            "your otp is  130971\n"
          ],
          "name": "stdout"
        }
      ]
    }
  ]
}