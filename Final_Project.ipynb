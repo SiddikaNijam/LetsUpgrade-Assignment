{
  "nbformat": 4,
  "nbformat_minor": 0,
  "metadata": {
    "colab": {
      "name": "Final Project.ipynb",
      "provenance": [],
      "collapsed_sections": [],
      "authorship_tag": "ABX9TyPtsyLrh6Ihb6lPnQe4bhxg"
    },
    "kernelspec": {
      "name": "python3",
      "display_name": "Python 3"
    },
    "language_info": {
      "name": "python"
    }
  },
  "cells": [
    {
      "cell_type": "code",
      "metadata": {
        "colab": {
          "base_uri": "https://localhost:8080/"
        },
        "id": "OIbH62yPDuZV",
        "outputId": "8ef7c3ef-8fb9-4070-e2ff-1735afbff9a0"
      },
      "source": [
        "# Temparature Converter\n",
        "print(\"...Hello!...\")\n",
        "cel = float(input(\"celsius is: \"))\n",
        "faren = ((cel*9/5)+32)\n",
        "print(\"Farenheit of\",cel,\"is\",faren,\"F\")"
      ],
      "execution_count": 3,
      "outputs": [
        {
          "output_type": "stream",
          "text": [
            "...Hello!...\n",
            "celsius is: 50\n",
            "Farenheit of 50.0 is 122.0 F\n"
          ],
          "name": "stdout"
        }
      ]
    }
  ]
}